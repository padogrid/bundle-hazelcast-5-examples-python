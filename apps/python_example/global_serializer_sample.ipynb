{
 "cells": [
  {
   "cell_type": "code",
   "execution_count": 1,
   "id": "653bb710-50aa-435d-9190-d94fd854c90b",
   "metadata": {},
   "outputs": [],
   "source": [
    "import hazelcast\n",
    "\n",
    "from hazelcast.serialization.api import StreamSerializer\n",
    "\n",
    "\n",
    "class GlobalSerializer(StreamSerializer):\n",
    "    def write(self, out, obj):\n",
    "        # out.write_byte_array(MyFavoriteSerializer.serialize(obj))\n",
    "        pass\n",
    "\n",
    "    def read(self, inp):\n",
    "        # return MyFavoriteSerializer.deserialize(inp)\n",
    "        return None\n",
    "\n",
    "    def get_type_id(self):\n",
    "        return 20\n",
    "\n",
    "    def destroy(self):\n",
    "        pass\n",
    "\n",
    "\n",
    "# Start the Hazelcast Client and connect to an already running Hazelcast Cluster on 127.0.0.1\n",
    "client = hazelcast.HazelcastClient(global_serializer=GlobalSerializer)\n",
    "# GlobalSerializer will serialize/deserialize all non-builtin types\n",
    "client.shutdown()"
   ]
  }
 ],
 "metadata": {
  "kernelspec": {
   "display_name": "Python 3 (ipykernel)",
   "language": "python",
   "name": "python3"
  },
  "language_info": {
   "codemirror_mode": {
    "name": "ipython",
    "version": 3
   },
   "file_extension": ".py",
   "mimetype": "text/x-python",
   "name": "python",
   "nbconvert_exporter": "python",
   "pygments_lexer": "ipython3",
   "version": "3.9.13"
  }
 },
 "nbformat": 4,
 "nbformat_minor": 5
}
