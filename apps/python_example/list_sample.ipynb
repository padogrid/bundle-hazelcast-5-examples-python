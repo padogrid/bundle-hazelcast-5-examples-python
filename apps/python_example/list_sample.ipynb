{
 "cells": [
  {
   "cell_type": "code",
   "execution_count": null,
   "id": "cfc3f92b-bffe-4e41-9fed-00c59430c5b7",
   "metadata": {},
   "outputs": [],
   "source": [
    "import hazelcast\n",
    "\n",
    "# Start the Hazelcast Client and connect to an already running Hazelcast Cluster on 127.0.0.1\n",
    "client = hazelcast.HazelcastClient()\n",
    "# Get the Distributed List from Cluster.\n",
    "my_list = client.get_list(\"my-distributed-list\").blocking()\n",
    "# Add element to the list\n",
    "my_list.add(\"item1\")\n",
    "my_list.add(\"item2\")\n",
    "\n",
    "# Remove the first element\n",
    "print(\"Removed:\", my_list.remove_at(0))\n",
    "# There is only one element left\n",
    "print(\"Current size is\", my_list.size())\n",
    "# Clear the list\n",
    "my_list.clear()\n",
    "# Shutdown this Hazelcast Client\n",
    "client.shutdown()"
   ]
  }
 ],
 "metadata": {
  "kernelspec": {
   "display_name": "Python 3 (ipykernel)",
   "language": "python",
   "name": "python3"
  },
  "language_info": {
   "codemirror_mode": {
    "name": "ipython",
    "version": 3
   },
   "file_extension": ".py",
   "mimetype": "text/x-python",
   "name": "python",
   "nbconvert_exporter": "python",
   "pygments_lexer": "ipython3",
   "version": "3.9.13"
  }
 },
 "nbformat": 4,
 "nbformat_minor": 5
}
