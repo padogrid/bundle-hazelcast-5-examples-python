{
 "cells": [
  {
   "cell_type": "code",
   "execution_count": null,
   "id": "649f009b-e410-4073-9931-05f19af0528a",
   "metadata": {},
   "outputs": [],
   "source": [
    "import hazelcast\n",
    "\n",
    "# Start the Hazelcast Client and connect to an already running Hazelcast Cluster on 127.0.0.1\n",
    "client = hazelcast.HazelcastClient()\n",
    "# Get the Distributed MultiMap from Cluster.\n",
    "multi_map = client.get_multi_map(\"my-distributed-multimap\").blocking()\n",
    "# Put values in the map against the same key\n",
    "multi_map.put(\"my-key\", \"value1\")\n",
    "multi_map.put(\"my-key\", \"value2\")\n",
    "multi_map.put(\"my-key\", \"value3\")\n",
    "# Print out all the values for associated with key called \"my-key\"\n",
    "values = multi_map.get(\"my-key\")\n",
    "print(values)\n",
    "# remove specific key/value pair\n",
    "multi_map.remove(\"my-key\", \"value2\")\n",
    "# Shutdown this Hazelcast Client\n",
    "client.shutdown()"
   ]
  }
 ],
 "metadata": {
  "kernelspec": {
   "display_name": "Python 3 (ipykernel)",
   "language": "python",
   "name": "python3"
  },
  "language_info": {
   "codemirror_mode": {
    "name": "ipython",
    "version": 3
   },
   "file_extension": ".py",
   "mimetype": "text/x-python",
   "name": "python",
   "nbconvert_exporter": "python",
   "pygments_lexer": "ipython3",
   "version": "3.9.13"
  }
 },
 "nbformat": 4,
 "nbformat_minor": 5
}
