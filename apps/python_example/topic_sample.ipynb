{
 "cells": [
  {
   "cell_type": "code",
   "execution_count": null,
   "id": "2c73e9d4-5d16-407c-9f5e-e393e1dbcb4e",
   "metadata": {},
   "outputs": [],
   "source": [
    "import hazelcast\n",
    "\n",
    "def print_on_message(topic_message):\n",
    "    print(\"Got message\", topic_message.message)\n",
    "\n",
    "# Start the Hazelcast Client and connect to an already running Hazelcast Cluster on 127.0.0.1\n",
    "client = hazelcast.HazelcastClient()\n",
    "# Get a Topic called \"my-distributed-topic\"\n",
    "topic = client.get_topic(\"my-distributed-topic\").blocking()\n",
    "# Add a Listener to the Topic\n",
    "topic.add_listener(print_on_message)\n",
    "# Publish a message to the Topic\n",
    "topic.publish(\"Hello to distributed world\")\n",
    "# Shutdown this Hazelcast Client\n",
    "client.shutdown()"
   ]
  }
 ],
 "metadata": {
  "kernelspec": {
   "display_name": "Python 3 (ipykernel)",
   "language": "python",
   "name": "python3"
  },
  "language_info": {
   "codemirror_mode": {
    "name": "ipython",
    "version": 3
   },
   "file_extension": ".py",
   "mimetype": "text/x-python",
   "name": "python",
   "nbconvert_exporter": "python",
   "pygments_lexer": "ipython3",
   "version": "3.9.13"
  }
 },
 "nbformat": 4,
 "nbformat_minor": 5
}
