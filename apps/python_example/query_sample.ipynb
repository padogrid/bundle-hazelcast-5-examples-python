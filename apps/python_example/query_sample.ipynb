{
 "cells": [
  {
   "cell_type": "code",
   "execution_count": null,
   "id": "930df489-5870-42bd-9412-3885b3340eed",
   "metadata": {},
   "outputs": [],
   "source": [
    "import hazelcast\n",
    "\n",
    "# Start the Hazelcast Client and connect to an already running Hazelcast Cluster on 127.0.0.1\n",
    "client = hazelcast.HazelcastClient()\n",
    "# Get a Blocking Queue called \"my-distributed-queue\"\n",
    "queue = client.get_queue(\"my-distributed-queue\").blocking()\n",
    "# Offer a String into the Distributed Queue\n",
    "queue.offer(\"item\")\n",
    "# Poll the Distributed Queue and return the String\n",
    "item = queue.poll()\n",
    "# Timed blocking Operations\n",
    "queue.offer(\"anotheritem\", 0.5)\n",
    "another_item = queue.poll(5)\n",
    "# Indefinitely blocking Operations\n",
    "queue.put(\"yetanotheritem\")\n",
    "print(queue.take())\n",
    "# Shutdown this Hazelcast Client\n",
    "client.shutdown()"
   ]
  }
 ],
 "metadata": {
  "kernelspec": {
   "display_name": "Python 3 (ipykernel)",
   "language": "python",
   "name": "python3"
  },
  "language_info": {
   "codemirror_mode": {
    "name": "ipython",
    "version": 3
   },
   "file_extension": ".py",
   "mimetype": "text/x-python",
   "name": "python",
   "nbconvert_exporter": "python",
   "pygments_lexer": "ipython3",
   "version": "3.9.13"
  }
 },
 "nbformat": 4,
 "nbformat_minor": 5
}
