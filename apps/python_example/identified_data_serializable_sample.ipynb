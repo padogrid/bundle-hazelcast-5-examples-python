{
 "cells": [
  {
   "cell_type": "code",
   "execution_count": 1,
   "id": "ca963ca7-bdd3-430a-8ea8-53539826f642",
   "metadata": {},
   "outputs": [],
   "source": [
    "import hazelcast\n",
    "\n",
    "from hazelcast.serialization.api import IdentifiedDataSerializable\n",
    "\n",
    "\n",
    "class Employee(IdentifiedDataSerializable):\n",
    "    FACTORY_ID = 1000\n",
    "    CLASS_ID = 100\n",
    "\n",
    "    def __init__(self, id=None, name=None):\n",
    "        self.id = id\n",
    "        self.name = name\n",
    "\n",
    "    def read_data(self, object_data_input):\n",
    "        self.id = object_data_input.read_int()\n",
    "        self.name = object_data_input.read_string()\n",
    "\n",
    "    def write_data(self, object_data_output):\n",
    "        object_data_output.write_int(self.id)\n",
    "        object_data_output.write_string(self.name)\n",
    "\n",
    "    def get_factory_id(self):\n",
    "        return self.FACTORY_ID\n",
    "\n",
    "    def get_class_id(self):\n",
    "        return self.CLASS_ID\n",
    "\n",
    "\n",
    "# Start the Hazelcast Client and connect to an already running Hazelcast Cluster on 127.0.0.1\n",
    "client = hazelcast.HazelcastClient(\n",
    "    data_serializable_factories={Employee.FACTORY_ID: {Employee.CLASS_ID: Employee}}\n",
    ")\n",
    "# Employee can be used here\n",
    "client.shutdown()"
   ]
  }
 ],
 "metadata": {
  "kernelspec": {
   "display_name": "Python 3 (ipykernel)",
   "language": "python",
   "name": "python3"
  },
  "language_info": {
   "codemirror_mode": {
    "name": "ipython",
    "version": 3
   },
   "file_extension": ".py",
   "mimetype": "text/x-python",
   "name": "python",
   "nbconvert_exporter": "python",
   "pygments_lexer": "ipython3",
   "version": "3.9.13"
  }
 },
 "nbformat": 4,
 "nbformat_minor": 5
}
