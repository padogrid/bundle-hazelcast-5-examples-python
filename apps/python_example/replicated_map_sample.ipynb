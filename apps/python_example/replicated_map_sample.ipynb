{
 "cells": [
  {
   "cell_type": "code",
   "execution_count": null,
   "id": "94f1e208-9d64-4aea-a1f0-8416ad6fc50a",
   "metadata": {},
   "outputs": [],
   "source": [
    "import hazelcast\n",
    "\n",
    "# Start the Hazelcast Client and connect to an already running Hazelcast Cluster on 127.0.0.1\n",
    "client = hazelcast.HazelcastClient()\n",
    "# Get a Replicated Map called \"my-replicated-map\"\n",
    "rmap = client.get_replicated_map(\"my-replicated-map\").blocking()\n",
    "# Put and Get a value from the Replicated Map\n",
    "replaced_value = rmap.put(\"key\", \"value\")\n",
    "# key/value replicated to all members\n",
    "print(\"replaced value =\", replaced_value)\n",
    "# Will be None as its first update\n",
    "value = rmap.get(\"key\")\n",
    "# the value is retrieved from a random member in the cluster\n",
    "print(\"value for key =\", value)\n",
    "# Shutdown this Hazelcast Client\n",
    "client.shutdown()"
   ]
  }
 ],
 "metadata": {
  "kernelspec": {
   "display_name": "Python 3 (ipykernel)",
   "language": "python",
   "name": "python3"
  },
  "language_info": {
   "codemirror_mode": {
    "name": "ipython",
    "version": 3
   },
   "file_extension": ".py",
   "mimetype": "text/x-python",
   "name": "python",
   "nbconvert_exporter": "python",
   "pygments_lexer": "ipython3",
   "version": "3.9.13"
  }
 },
 "nbformat": 4,
 "nbformat_minor": 5
}
