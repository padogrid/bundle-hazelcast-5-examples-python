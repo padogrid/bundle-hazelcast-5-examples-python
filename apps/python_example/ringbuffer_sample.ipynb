{
 "cells": [
  {
   "cell_type": "code",
   "execution_count": null,
   "id": "a938da27-e180-40f7-aaaa-ac7be1865a62",
   "metadata": {},
   "outputs": [],
   "source": [
    "import hazelcast\n",
    "\n",
    "# Start the Hazelcast Client and connect to an already running Hazelcast Cluster on 127.0.0.1\n",
    "client = hazelcast.HazelcastClient()\n",
    "rb = client.get_ringbuffer(\"rb\").blocking()\n",
    "# add two items into ring buffer\n",
    "rb.add(100)\n",
    "rb.add(200)\n",
    "# we start from the oldest item.\n",
    "# if you want to start from the next item, call rb.tailSequence()+1\n",
    "sequence = rb.head_sequence()\n",
    "print(rb.read_one(sequence))\n",
    "sequence += 1\n",
    "print(rb.read_one(sequence))\n",
    "# Shutdown this Hazelcast Client\n",
    "client.shutdown()"
   ]
  }
 ],
 "metadata": {
  "kernelspec": {
   "display_name": "Python 3 (ipykernel)",
   "language": "python",
   "name": "python3"
  },
  "language_info": {
   "codemirror_mode": {
    "name": "ipython",
    "version": 3
   },
   "file_extension": ".py",
   "mimetype": "text/x-python",
   "name": "python",
   "nbconvert_exporter": "python",
   "pygments_lexer": "ipython3",
   "version": "3.9.13"
  }
 },
 "nbformat": 4,
 "nbformat_minor": 5
}
