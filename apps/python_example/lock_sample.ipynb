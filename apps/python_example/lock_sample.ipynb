{
 "cells": [
  {
   "cell_type": "code",
   "execution_count": null,
   "id": "e56c6b1e-702f-49de-ab59-b86f07a8a0c8",
   "metadata": {},
   "outputs": [],
   "source": [
    "import hazelcast\n",
    "\n",
    "# Start the Hazelcast Client and connect to an already running\n",
    "# Hazelcast Cluster on 127.0.0.1\n",
    "client = hazelcast.HazelcastClient()\n",
    "# Get the Distributed Lock from CP Subsystem\n",
    "lock = client.cp_subsystem.get_lock(\"my-distributed-lock\").blocking()\n",
    "# Now acquire the lock and execute some guarded code\n",
    "fence = lock.lock()\n",
    "print(\"Fence token:\", fence)\n",
    "try:\n",
    "    # do something here\n",
    "    pass\n",
    "finally:\n",
    "    lock.unlock()\n",
    "\n",
    "# Shutdown this Hazelcast Client\n",
    "client.shutdown()"
   ]
  }
 ],
 "metadata": {
  "kernelspec": {
   "display_name": "Python 3 (ipykernel)",
   "language": "python",
   "name": "python3"
  },
  "language_info": {
   "codemirror_mode": {
    "name": "ipython",
    "version": 3
   },
   "file_extension": ".py",
   "mimetype": "text/x-python",
   "name": "python",
   "nbconvert_exporter": "python",
   "pygments_lexer": "ipython3",
   "version": "3.9.13"
  }
 },
 "nbformat": 4,
 "nbformat_minor": 5
}
