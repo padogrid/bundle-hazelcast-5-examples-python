{
 "cells": [
  {
   "cell_type": "code",
   "execution_count": null,
   "id": "e9962180-a05f-4d51-afa6-5c52fc01f7ea",
   "metadata": {},
   "outputs": [],
   "source": [
    "import hazelcast\n",
    "\n",
    "from hazelcast.serialization.api import Portable\n",
    "\n",
    "class Customer(Portable):\n",
    "    FACTORY_ID = 1\n",
    "    CLASS_ID = 1\n",
    "\n",
    "    def __init__(self, id=None, name=None, last_order=None):\n",
    "        self.id = id\n",
    "        self.name = name\n",
    "        self.last_order = last_order\n",
    "\n",
    "    def read_portable(self, reader):\n",
    "        self.id = reader.read_int(\"id\")\n",
    "        self.name = reader.read_string(\"name\")\n",
    "        self.last_order = reader.read_long(\"last_order\")\n",
    "\n",
    "    def write_portable(self, writer):\n",
    "        writer.write_int(\"id\", self.id)\n",
    "        writer.write_string(\"name\", self.name)\n",
    "        writer.write_long(\"last_order\", self.last_order)\n",
    "\n",
    "    def get_factory_id(self):\n",
    "        return self.FACTORY_ID\n",
    "\n",
    "    def get_class_id(self):\n",
    "        return self.CLASS_ID\n",
    "\n",
    "\n",
    "# Start the Hazelcast Client and connect to an already running Hazelcast Cluster on 127.0.0.1\n",
    "client = hazelcast.HazelcastClient(\n",
    "    portable_factories={Customer.FACTORY_ID: {Customer.CLASS_ID: Customer}}\n",
    ")\n",
    "# Customer can be used here\n",
    "client.shutdown()"
   ]
  }
 ],
 "metadata": {
  "kernelspec": {
   "display_name": "Python 3 (ipykernel)",
   "language": "python",
   "name": "python3"
  },
  "language_info": {
   "codemirror_mode": {
    "name": "ipython",
    "version": 3
   },
   "file_extension": ".py",
   "mimetype": "text/x-python",
   "name": "python",
   "nbconvert_exporter": "python",
   "pygments_lexer": "ipython3",
   "version": "3.9.13"
  }
 },
 "nbformat": 4,
 "nbformat_minor": 5
}
