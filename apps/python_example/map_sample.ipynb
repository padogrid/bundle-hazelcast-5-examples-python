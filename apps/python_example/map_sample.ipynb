{
 "cells": [
  {
   "cell_type": "code",
   "execution_count": null,
   "id": "7054c4e8-7ba6-4285-b7d4-c2c54c72657a",
   "metadata": {},
   "outputs": [],
   "source": [
    "import hazelcast\n",
    "\n",
    "# Start the Hazelcast Client and connect to an already running Hazelcast Cluster on 127.0.0.1\n",
    "client = hazelcast.HazelcastClient()\n",
    "# Get the Distributed Map from Cluster.\n",
    "my_map = client.get_map(\"my-distributed-map\").blocking()\n",
    "# Standard Put and Get\n",
    "my_map.put(\"key\", \"value\")\n",
    "my_map.get(\"key\")\n",
    "# Concurrent Map methods, optimistic updating\n",
    "my_map.put_if_absent(\"somekey\", \"somevalue\")\n",
    "my_map.replace_if_same(\"key\", \"value\", \"newvalue\")\n",
    "# Shutdown this Hazelcast Client\n",
    "client.shutdown()"
   ]
  }
 ],
 "metadata": {
  "kernelspec": {
   "display_name": "Python 3 (ipykernel)",
   "language": "python",
   "name": "python3"
  },
  "language_info": {
   "codemirror_mode": {
    "name": "ipython",
    "version": 3
   },
   "file_extension": ".py",
   "mimetype": "text/x-python",
   "name": "python",
   "nbconvert_exporter": "python",
   "pygments_lexer": "ipython3",
   "version": "3.9.13"
  }
 },
 "nbformat": 4,
 "nbformat_minor": 5
}
