{
 "cells": [
  {
   "cell_type": "code",
   "execution_count": 1,
   "id": "e42f26b9-7b80-464a-a794-38fbb9469c59",
   "metadata": {},
   "outputs": [],
   "source": [
    "import hazelcast\n",
    "\n",
    "# Start the Hazelcast Client and connect to an already running Hazelcast Cluster on 127.0.0.1\n",
    "client = hazelcast.HazelcastClient()\n",
    "\n",
    "# Get a Topic called \"my-distributed-topic\"\n",
    "topic = client.get_reliable_topic(\"my-distributed-topic\").blocking()\n",
    "\n",
    "# Add a Listener to the Topic\n",
    "topic.add_listener(lambda message: print(message))\n",
    "\n",
    "# Publish a message to the Topic\n",
    "topic.publish(\"Hello to distributed world\")\n",
    "\n",
    "# Shutdown this Hazelcast Client\n",
    "client.shutdown()"
   ]
  }
 ],
 "metadata": {
  "kernelspec": {
   "display_name": "Python 3 (ipykernel)",
   "language": "python",
   "name": "python3"
  },
  "language_info": {
   "codemirror_mode": {
    "name": "ipython",
    "version": 3
   },
   "file_extension": ".py",
   "mimetype": "text/x-python",
   "name": "python",
   "nbconvert_exporter": "python",
   "pygments_lexer": "ipython3",
   "version": "3.9.13"
  }
 },
 "nbformat": 4,
 "nbformat_minor": 5
}
