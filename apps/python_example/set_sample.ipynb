{
 "cells": [
  {
   "cell_type": "code",
   "execution_count": null,
   "id": "ba876615-80fb-47e2-9e76-bf4c5f902aee",
   "metadata": {},
   "outputs": [],
   "source": [
    "import hazelcast\n",
    "\n",
    "# Start the Hazelcast Client and connect to an already running Hazelcast Cluster on 127.0.0.1\n",
    "client = hazelcast.HazelcastClient()\n",
    "# Get the Distributed Set from Cluster.\n",
    "my_set = client.get_set(\"my-distributed-set\").blocking()\n",
    "# Add items to the set with duplicates\n",
    "my_set.add(\"item1\")\n",
    "my_set.add(\"item1\")\n",
    "my_set.add(\"item2\")\n",
    "my_set.add(\"item2\")\n",
    "my_set.add(\"item2\")\n",
    "my_set.add(\"item3\")\n",
    "# Get the items. Note that there are no duplicates.\n",
    "for item in my_set.get_all():\n",
    "    print(item)\n",
    "# Shutdown this Hazelcast Client\n",
    "client.shutdown()"
   ]
  }
 ],
 "metadata": {
  "kernelspec": {
   "display_name": "Python 3 (ipykernel)",
   "language": "python",
   "name": "python3"
  },
  "language_info": {
   "codemirror_mode": {
    "name": "ipython",
    "version": 3
   },
   "file_extension": ".py",
   "mimetype": "text/x-python",
   "name": "python",
   "nbconvert_exporter": "python",
   "pygments_lexer": "ipython3",
   "version": "3.9.13"
  }
 },
 "nbformat": 4,
 "nbformat_minor": 5
}
