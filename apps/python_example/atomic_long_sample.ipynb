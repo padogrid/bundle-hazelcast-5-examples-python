{
 "cells": [
  {
   "cell_type": "code",
   "execution_count": null,
   "id": "e531ad05-9a8e-4965-a464-bdbeab90a75c",
   "metadata": {},
   "outputs": [],
   "source": [
    "import hazelcast\n",
    "\n",
    "# Start the Hazelcast Client and connect to an already running\n",
    "# Hazelcast Cluster on 127.0.0.1\n",
    "# Note: CP Subsystem has to be enabled on the cluster\n",
    "client = hazelcast.HazelcastClient()\n",
    "# Get the AtomicLong counter from Cluster\n",
    "counter = client.cp_subsystem.get_atomic_long(\"counter\").blocking()\n",
    "# Add and get the counter\n",
    "value = counter.add_and_get(3)\n",
    "print(\"Counter value is\", value)\n",
    "# Shutdown this Hazelcast client\n",
    "client.shutdown()"
   ]
  }
 ],
 "metadata": {
  "kernelspec": {
   "display_name": "Python 3 (ipykernel)",
   "language": "python",
   "name": "python3"
  },
  "language_info": {
   "codemirror_mode": {
    "name": "ipython",
    "version": 3
   },
   "file_extension": ".py",
   "mimetype": "text/x-python",
   "name": "python",
   "nbconvert_exporter": "python",
   "pygments_lexer": "ipython3",
   "version": "3.9.13"
  }
 },
 "nbformat": 4,
 "nbformat_minor": 5
}
