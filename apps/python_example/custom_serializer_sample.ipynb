{
 "cells": [
  {
   "cell_type": "code",
   "execution_count": 1,
   "id": "22df376c-1301-48d7-b076-f9d1bd6390d2",
   "metadata": {},
   "outputs": [],
   "source": [
    "import hazelcast\n",
    "\n",
    "from hazelcast.serialization.api import StreamSerializer\n",
    "\n",
    "\n",
    "class CustomSerializableType:\n",
    "    def __init__(self, value=None):\n",
    "        self.value = value\n",
    "\n",
    "\n",
    "class CustomSerializer(StreamSerializer):\n",
    "    def write(self, out, obj):\n",
    "        out.write_string(obj.value)\n",
    "\n",
    "    def read(self, inp):\n",
    "        return CustomSerializableType(inp.read_string())\n",
    "\n",
    "    def get_type_id(self):\n",
    "        return 10\n",
    "\n",
    "    def destroy(self):\n",
    "        pass\n",
    "\n",
    "\n",
    "# Start the Hazelcast Client and connect to an already running Hazelcast Cluster on 127.0.0.1\n",
    "client = hazelcast.HazelcastClient(custom_serializers={CustomSerializableType: CustomSerializer})\n",
    "\n",
    "# CustomSerializer will serialize/deserialize CustomSerializable objects\n",
    "client.shutdown()"
   ]
  }
 ],
 "metadata": {
  "kernelspec": {
   "display_name": "Python 3 (ipykernel)",
   "language": "python",
   "name": "python3"
  },
  "language_info": {
   "codemirror_mode": {
    "name": "ipython",
    "version": 3
   },
   "file_extension": ".py",
   "mimetype": "text/x-python",
   "name": "python",
   "nbconvert_exporter": "python",
   "pygments_lexer": "ipython3",
   "version": "3.9.13"
  }
 },
 "nbformat": 4,
 "nbformat_minor": 5
}
