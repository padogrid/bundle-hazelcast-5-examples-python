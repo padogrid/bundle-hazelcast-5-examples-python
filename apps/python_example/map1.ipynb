{
 "cells": [
  {
   "cell_type": "code",
   "execution_count": null,
   "id": "71f9e0b5-df1f-44bd-8a26-ffa5da58daa7",
   "metadata": {
    "tags": []
   },
   "outputs": [],
   "source": [
    "import hazelcast\n",
    "\n",
    "# Connect to cluster\n",
    "client = hazelcast.HazelcastClient(cluster_name=\"dev\",\n",
    "    cluster_members=[\n",
    "        \"localhost:5701\"\n",
    "    ],\n",
    "    lifecycle_listeners=[\n",
    "        lambda state: print(\"Lifecycle event >>>\", state)\n",
    "    ])\n",
    "\n",
    "# Get a map from Cluster.\n",
    "map1 = client.get_map(\"map1\").blocking()\n",
    "\n",
    "# PUt values\n",
    "map1.put(\"key1\", \"value1\")\n",
    "map1.put(\"key2\", \"value2\")\n",
    "\n",
    "# Get values\n",
    "value1=map1.get(\"key1\")\n",
    "value2=map1.get(\"key2\")\n",
    "\n",
    "# Print map values\n",
    "print('value1=' + value1)\n",
    "print('value2=' + value2)\n",
    "\n",
    "# Concurrent Map methods, optimistic updating\n",
    "map1.put_if_absent(\"key3\", \"value3\")\n",
    "map1.replace_if_same(\"key1\", \"value1\", \"new_value1\")\n",
    "\n",
    "# Get values\n",
    "value1=map1.get(\"key1\")\n",
    "value2=map1.get(\"key2\")\n",
    "value3=map1.get(\"key3\")\n",
    "\n",
    "# Print map values\n",
    "print()\n",
    "print('value1=' + value1)\n",
    "print('value2=' + value2)\n",
    "print('value3=' + value3)\n",
    "\n",
    "# Shutdown this Hazelcast Client\n",
    "client.shutdown()"
   ]
  }
 ],
 "metadata": {
  "kernelspec": {
   "display_name": "Python 3 (ipykernel)",
   "language": "python",
   "name": "python3"
  },
  "language_info": {
   "codemirror_mode": {
    "name": "ipython",
    "version": 3
   },
   "file_extension": ".py",
   "mimetype": "text/x-python",
   "name": "python",
   "nbconvert_exporter": "python",
   "pygments_lexer": "ipython3",
   "version": "3.9.13"
  }
 },
 "nbformat": 4,
 "nbformat_minor": 5
}
