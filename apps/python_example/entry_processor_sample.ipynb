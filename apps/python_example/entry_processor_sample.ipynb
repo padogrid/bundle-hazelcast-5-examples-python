{
 "cells": [
  {
   "cell_type": "code",
   "execution_count": null,
   "id": "ebe49d40-17cf-4925-8f74-925f8d5d54d5",
   "metadata": {},
   "outputs": [],
   "source": [
    "import hazelcast\n",
    "\n",
    "from hazelcast.serialization.api import IdentifiedDataSerializable\n",
    "\n",
    "class IncEntryProcessor(IdentifiedDataSerializable):\n",
    "    FACTORY_ID = 66\n",
    "    CLASS_ID = 1\n",
    "\n",
    "    def read_data(self, object_data_input):\n",
    "        pass\n",
    "\n",
    "    def write_data(self, object_data_output):\n",
    "        pass\n",
    "\n",
    "    def get_factory_id(self):\n",
    "        return self.FACTORY_ID\n",
    "\n",
    "    def get_class_id(self):\n",
    "        return self.CLASS_ID\n",
    "\n",
    "\n",
    "# Start the Hazelcast Client and connect to an already running Hazelcast Cluster on 127.0.0.1\n",
    "client = hazelcast.HazelcastClient()\n",
    "# Get the Distributed Map from Cluster.\n",
    "my_map = client.get_map(\"my-distributed-map\").blocking()\n",
    "# Put the integer value of 0 into the Distributed Map\n",
    "my_map.put(\"key\", 0)\n",
    "# Run the IncEntryProcessor class on the Hazelcast Cluster Member holding the key called \"key\"\n",
    "my_map.execute_on_key(\"key\", IncEntryProcessor())\n",
    "# Show that the IncEntryProcessor updated the value.\n",
    "print(\"new value:\", my_map.get(\"key\"))\n",
    "# Shutdown this Hazelcast Client\n",
    "client.shutdown()"
   ]
  }
 ],
 "metadata": {
  "kernelspec": {
   "display_name": "Python 3 (ipykernel)",
   "language": "python",
   "name": "python3"
  },
  "language_info": {
   "codemirror_mode": {
    "name": "ipython",
    "version": 3
   },
   "file_extension": ".py",
   "mimetype": "text/x-python",
   "name": "python",
   "nbconvert_exporter": "python",
   "pygments_lexer": "ipython3",
   "version": "3.9.13"
  }
 },
 "nbformat": 4,
 "nbformat_minor": 5
}
