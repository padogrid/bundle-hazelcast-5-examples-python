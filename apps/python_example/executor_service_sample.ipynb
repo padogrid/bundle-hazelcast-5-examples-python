{
 "cells": [
  {
   "cell_type": "code",
   "execution_count": 1,
   "id": "7c0e5ecf-5167-479e-86e3-5954e6fc3c60",
   "metadata": {},
   "outputs": [],
   "source": [
    "import hazelcast\n",
    "\n",
    "from hazelcast.serialization.api import Portable\n",
    "\n",
    "\n",
    "class MessagePrinter(Portable):\n",
    "    FACTORY_ID = 1\n",
    "    CLASS_ID = 9\n",
    "\n",
    "    def __init__(self, message=None):\n",
    "        self.message = message\n",
    "\n",
    "    def write_portable(self, writer):\n",
    "        writer.write_string(\"message\", self.message)\n",
    "\n",
    "    def read_portable(self, reader):\n",
    "        self.message = reader.read_string(\"message\")\n",
    "\n",
    "    def get_factory_id(self):\n",
    "        return self.FACTORY_ID\n",
    "\n",
    "    def get_class_id(self):\n",
    "        return self.CLASS_ID\n",
    "\n",
    "\n",
    "# Start the Hazelcast Client and connect to an already running Hazelcast Cluster on 127.0.0.1\n",
    "client = hazelcast.HazelcastClient()\n",
    "# Get the Distributed Executor Service\n",
    "ex = client.get_executor(\"my-distributed-executor\")\n",
    "# Get the an Hazelcast Cluster Member\n",
    "member = client.cluster_service.get_members()[0]\n",
    "# Submit the MessagePrinter Runnable to the first Hazelcast Cluster Member\n",
    "ex.execute_on_member(member, MessagePrinter(\"message to very first member of the cluster\"))\n",
    "# Submit the MessagePrinter Runnable to all Hazelcast Cluster Members\n",
    "ex.execute_on_all_members(MessagePrinter(\"message to all members in the cluster\"))\n",
    "# Submit the MessagePrinter Runnable to the Hazelcast Cluster Member owning the key called \"key\"\n",
    "ex.execute_on_key_owner(\"key\", MessagePrinter(\"message to the member that owns the following key\"))\n",
    "# Shutdown this Hazelcast Client\n",
    "client.shutdown()"
   ]
  }
 ],
 "metadata": {
  "kernelspec": {
   "display_name": "Python 3 (ipykernel)",
   "language": "python",
   "name": "python3"
  },
  "language_info": {
   "codemirror_mode": {
    "name": "ipython",
    "version": 3
   },
   "file_extension": ".py",
   "mimetype": "text/x-python",
   "name": "python",
   "nbconvert_exporter": "python",
   "pygments_lexer": "ipython3",
   "version": "3.9.13"
  }
 },
 "nbformat": 4,
 "nbformat_minor": 5
}
